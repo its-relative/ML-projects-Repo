{
 "cells": [
  {
   "cell_type": "markdown",
   "metadata": {},
   "source": [
    "Learning how to make an informed decission on choosing to replace by mode or mean."
   ]
  },
  {
   "cell_type": "code",
   "execution_count": 2,
   "metadata": {},
   "outputs": [
    {
     "name": "stdout",
     "output_type": "stream",
     "text": [
      "Original DataFrame:\n",
      "      Name  Age  Height   Salary\n",
      "0    Alice   25   165.5  50000.0\n",
      "1      Bob   30   180.0  60000.0\n",
      "2  Charlie   28   172.7  55000.0\n",
      "\n",
      "Numerical Columns:\n",
      "   Age  Height   Salary\n",
      "0   25   165.5  50000.0\n",
      "1   30   180.0  60000.0\n",
      "2   28   172.7  55000.0\n"
     ]
    }
   ],
   "source": [
    "import pandas as pd\n",
    "\n",
    "# Create a sample DataFrame\n",
    "data = {'Name': ['Alice', 'Bob', 'Charlie'],\n",
    "        'Age': [25, 30, 28],\n",
    "        'Height': [165.5, 180.0, 172.7],\n",
    "        'Salary': [50000.0, 60000.0, 55000.0]}\n",
    "\n",
    "df = pd.DataFrame(data)\n",
    "\n",
    "# Select numerical columns\n",
    "numerical_columns = df.select_dtypes(include=['int64', 'float64'])\n",
    "\n",
    "print(\"Original DataFrame:\")\n",
    "print(df)\n",
    "print(\"\\nNumerical Columns:\")\n",
    "print(numerical_columns)\n"
   ]
  },
  {
   "cell_type": "code",
   "execution_count": 15,
   "metadata": {},
   "outputs": [
    {
     "name": "stdout",
     "output_type": "stream",
     "text": [
      "Concatenated along rows:\n",
      "   A   B\n",
      "0  1   4\n",
      "1  2   5\n",
      "2  3   6\n",
      "0  7  10\n",
      "1  8  11\n",
      "2  9  12\n",
      "Concatenated along columns:\n",
      "   A  B  A   B\n",
      "0  1  4  7  10\n",
      "1  2  5  8  11\n",
      "2  3  6  9  12\n"
     ]
    }
   ],
   "source": [
    "import pandas as pd\n",
    "\n",
    "# Create two DataFrames\n",
    "df1 = pd.DataFrame({'A': [1, 2, 3], 'B': [4, 5, 6]})\n",
    "df2 = pd.DataFrame({'A': [7, 8, 9], 'B': [10, 11, 12]})\n",
    "\n",
    "# Concatenate along rows (axis=0)\n",
    "concatenated_rows = pd.concat([df1, df2], axis=0)\n",
    "print(\"Concatenated along rows:\")\n",
    "# print(concatenated_rows[\"B\"].value_counts().sort_values(ascending= False))\n",
    "print(concatenated_rows)\n",
    "\n",
    "# Concatenate along columns (axis=1)\n",
    "concatenated_columns = pd.concat([df1, df2], axis=1)\n",
    "print(\"Concatenated along columns:\")\n",
    "print(concatenated_columns)\n"
   ]
  },
  {
   "cell_type": "code",
   "execution_count": 6,
   "metadata": {},
   "outputs": [
    {
     "name": "stdout",
     "output_type": "stream",
     "text": [
      "       A  0  1  2\n",
      "0  a_b_c  d  e  f\n",
      "1    NaN  g  h  i\n"
     ]
    }
   ],
   "source": [
    "import pandas as pd\n",
    "\n",
    "# create a sample dataframe\n",
    "df = pd.DataFrame({'A': ['a_b_c', 'd_e_f', 'g_h_i']})\n",
    "\n",
    "# df\n",
    "\n",
    "# split the rows from index 1 onwards\n",
    "# df1 = df.loc[1:].reset_index(drop=True)\n",
    "df2 = df.loc[:0].reset_index(drop=True)\n",
    "\n",
    "# print(df1)\n",
    "# print(df2)\n",
    "\n",
    "# concatenate the split rows into separate columns\n",
    "df3 = pd.concat([df2, df1['A'].str.split('_', expand=True)], axis=1)\n",
    "\n",
    "print(df3)"
   ]
  }
 ],
 "metadata": {
  "kernelspec": {
   "display_name": "Python 3",
   "language": "python",
   "name": "python3"
  },
  "language_info": {
   "codemirror_mode": {
    "name": "ipython",
    "version": 3
   },
   "file_extension": ".py",
   "mimetype": "text/x-python",
   "name": "python",
   "nbconvert_exporter": "python",
   "pygments_lexer": "ipython3",
   "version": "3.10.12"
  },
  "orig_nbformat": 4
 },
 "nbformat": 4,
 "nbformat_minor": 2
}
