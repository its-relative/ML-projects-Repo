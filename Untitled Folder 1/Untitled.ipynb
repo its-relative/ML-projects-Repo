{
 "cells": [
  {
   "cell_type": "code",
   "execution_count": null,
   "id": "52de1727",
   "metadata": {},
   "outputs": [],
   "source": [
    "from tkinter import *\n",
    "\n",
    "class LibraryManagementSystem:\n",
    "    def __init__(self,root):\n",
    "        self.root = root\n",
    "        self.root.title('Library Management System')\n",
    "        self.root.geometry(\"1550x800+0+0\")\n",
    "        \n",
    "        \n",
    "        lbltitle = Label(self.root,text = \"LIBRARY MANAGEMENT SYSTEM\", bg = \"red\" , fg=\"yellow\",bd = 20, relief = RIDGE, font = (\"algerian\",50,\"bold\"),padx=2,pady=6)\n",
    "        lbltitle.pack(side=TOP,fill=X)\n",
    "        \n",
    "        frame = Frame(self.root,bd=12,relief=RIDGE,padx=20,bg=\"powderblue\")\n",
    "        frame.place(x=0,y=130,width=1530,height = 400)\n",
    "        \n",
    "        DataFrameLeft=LabelFrame(frame,text=\"LIBRARY MEMBERSHIP INFORMATION\", bg = \"red\" , fg=\"yellow\",bd = 20, relief = RIDGE, font = (\"calibri\",12,\"bold\"))\n",
    "        DataFrameLeft.place(x=0,y=5,width=900,height=350)\n",
    "        \n",
    "        DataFrameRight=LabelFrame(frame,text=\"Book Details\", bg = \"red\" , fg=\"yellow\",bd = 20, relief = RIDGE, font = (\"calibri\",12,\"bold\"))\n",
    "        DataFrameRight.place(x=910,y=5,width=580,height=350)\n",
    "\n",
    "if __name__ == \"__main__\":\n",
    "    root = Tk()\n",
    "    obj=LibraryManagementSystem(root)\n",
    "    root.mainloop()"
   ]
  }
 ],
 "metadata": {
  "kernelspec": {
   "display_name": "Python 3 (ipykernel)",
   "language": "python",
   "name": "python3"
  },
  "language_info": {
   "codemirror_mode": {
    "name": "ipython",
    "version": 3
   },
   "file_extension": ".py",
   "mimetype": "text/x-python",
   "name": "python",
   "nbconvert_exporter": "python",
   "pygments_lexer": "ipython3",
   "version": "3.10.4"
  }
 },
 "nbformat": 4,
 "nbformat_minor": 5
}
