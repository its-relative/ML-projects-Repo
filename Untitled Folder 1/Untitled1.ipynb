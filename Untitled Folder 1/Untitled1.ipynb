{
 "cells": [
  {
   "cell_type": "code",
   "execution_count": null,
   "id": "05f69b2b",
   "metadata": {},
   "outputs": [],
   "source": [
    "from tkinter import *\n",
    "from tkinter import ttk\n",
    "import mysql.connector\n",
    "from tkinter import messagebox\n",
    "import datetime\n",
    "\n",
    "\n",
    "class LibraryManagementSystem:\n",
    "    def __init__(self,root):\n",
    "        self.root = root\n",
    "        self.root.title('Library Management System')\n",
    "        self.root.geometry(\"1550x800+0+0\")\n",
    "        \n",
    "        \n",
    "        #variaable\n",
    "        self.member_var=StringVar()\n",
    "        self.prn_var=StringVar()\n",
    "        self.id_var=StringVar()\n",
    "        self.firstname_var=StringVar()\n",
    "        self.lastname_var=StringVar()\n",
    "        self.address1_var=StringVar()\n",
    "        self.address2_var=StringVar()\n",
    "        self.address2_var=StringVar()\n",
    "        self.postcode_var=StringVar()\n",
    "        self.mobile_var=StringVar()\n",
    "        self.bookid_var=StringVar()\n",
    "        self.booktitle_var=StringVar()\n",
    "        self.author_var=StringVar()\n",
    "        self.dateborrowed_var=StringVar()\n",
    "        self.datedue_var=StringVar()\n",
    "        self.daysonbook=StringVar()\n",
    "        self.latereturnfine_var=StringVar()\n",
    "        self.dateoverdue_var= StringVar()\n",
    "        #self.finalprice=StringVar()\n",
    "        self.actualprice=StringVar()\n",
    "    \n",
    "        def SelectBook(event=\"\"):\n",
    "            value=str(listBox.get(listBox.curselection))\n",
    "            x = value\n",
    "            if (x==\"Head first Book\"):\n",
    "                self.bookid_var.set(\"BKID1234\")\n",
    "                self.booktitle_var.set(\"Way of Kings\")\n",
    "                self.author_var.set(\"Brandon Sanderson\")\n",
    "                \n",
    "                d1 = datetime.datetime.today()\n",
    "                #taken 30 not 15 here\n",
    "                d2 = datetime.timedelta(days=30)\n",
    "                d3 = d1+d2\n",
    "                self.dateborrowed_var.set(d1)\n",
    "                self.datedue_var.set(d3)\n",
    "                self.daysonbook.set(30)\n",
    "                self.latereturnfine_var.set(100)\n",
    "                self.dateoverdue_var.set(\"No\")\n",
    "                self.actualprice.set(\"Rs. 350\")"
   ]
  }
 ],
 "metadata": {
  "kernelspec": {
   "display_name": "Python 3 (ipykernel)",
   "language": "python",
   "name": "python3"
  },
  "language_info": {
   "codemirror_mode": {
    "name": "ipython",
    "version": 3
   },
   "file_extension": ".py",
   "mimetype": "text/x-python",
   "name": "python",
   "nbconvert_exporter": "python",
   "pygments_lexer": "ipython3",
   "version": "3.10.4"
  }
 },
 "nbformat": 4,
 "nbformat_minor": 5
}
